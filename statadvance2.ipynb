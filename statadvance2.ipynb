{
 "cells": [
  {
   "cell_type": "code",
   "execution_count": 2,
   "id": "86340f5e-6e71-44a9-aa8d-b1e0aa36a2ee",
   "metadata": {},
   "outputs": [
    {
     "name": "stdout",
     "output_type": "stream",
     "text": [
      "Probability mass function denotes the probability that a discrete random variable will take on a particular value. Probability density function gives the probability that a continuous random variable will lie between a certain specified interval. It is used for discrete random variables.\n",
      "eample of pmf is tossing a coin and example of pdf os height of students in class\n"
     ]
    }
   ],
   "source": [
    "# QUESTION 1\n",
    "print(\"Probability mass function denotes the probability that a discrete random variable will take on a particular value. Probability density function gives the probability that a continuous random variable will lie between a certain specified interval. It is used for discrete random variables.\")\n",
    "print(\"eample of pmf is tossing a coin and example of pdf os height of students in class\")"
   ]
  },
  {
   "cell_type": "code",
   "execution_count": 3,
   "id": "bdf20fc4-9d8a-49ae-93f4-891b89f1561e",
   "metadata": {},
   "outputs": [
    {
     "name": "stdout",
     "output_type": "stream",
     "text": [
      "The cumulative distribution function (CDF) calculates the cumulative probability for a given x-value. Use the CDF to determine the likelihood that a random observation taken from the population will be less than or equal to a particular value.\n"
     ]
    }
   ],
   "source": [
    "# QUESTION 2\n",
    "print(\"The cumulative distribution function (CDF) calculates the cumulative probability for a given x-value. Use the CDF to determine the likelihood that a random observation taken from the population will be less than or equal to a particular value.\")"
   ]
  },
  {
   "cell_type": "code",
   "execution_count": 8,
   "id": "d460ddf0-45ba-4253-8106-337def75bca4",
   "metadata": {},
   "outputs": [
    {
     "data": {
      "text/plain": [
       "'The height of people is an example of normal distribution. Most of the people in a specific population are of average height. The number of people taller and shorter than the average height people is almost equal, and a very small number of people are either extremely tall or extremely short.\\nThe two main parameters of a (normal) distribution are the mean and standard deviation. The parameters determine the shape and probabilities of the distribution. The shape of the distribution changes as the parameter values change.'"
      ]
     },
     "execution_count": 8,
     "metadata": {},
     "output_type": "execute_result"
    }
   ],
   "source": [
    "# QUESTION 3\n",
    "'''The height of people is an example of normal distribution. Most of the people in a specific population are of average height. The number of people taller and shorter than the average height people is almost equal, and a very small number of people are either extremely tall or extremely short.\n",
    "The two main parameters of a (normal) distribution are the mean and standard deviation. The parameters determine the shape and probabilities of the distribution. The shape of the distribution changes as the parameter values change.'''"
   ]
  },
  {
   "cell_type": "code",
   "execution_count": 9,
   "id": "23fcdd32-a7b6-44c4-9128-472629b1a72e",
   "metadata": {},
   "outputs": [
    {
     "name": "stdout",
     "output_type": "stream",
     "text": [
      " “Height of people” is something that follows a normal distribution pattern perfectly: Most people are of average height, the numbers of people that are taller and shorter than average are fairly equal and a very small (and still roughly equivalent) number of people are either extremely tall or extremely \n"
     ]
    }
   ],
   "source": [
    "# QUESTION 4\n",
    "print(\" “Height of people” is something that follows a normal distribution pattern perfectly: Most people are of average height, the numbers of people that are taller and shorter than average are fairly equal and a very small (and still roughly equivalent) number of people are either extremely tall or extremely \")"
   ]
  },
  {
   "cell_type": "code",
   "execution_count": 11,
   "id": "bd799113-6156-4359-a939-174bbe2cdd23",
   "metadata": {},
   "outputs": [
    {
     "name": "stdout",
     "output_type": "stream",
     "text": [
      "A Bernoulli distribution is a discrete probability distribution for a Bernoulli trial — a random experiment that has only two outcomes (usually called a “Success” or a “Failure”). For example, the probability of getting a heads (a “success”) while flipping a coin is 0.5.\n",
      "The Bernoulli distribution represents the success or failure of a single Bernoulli trial. The Binomial Distribution represents the number of successes and failures in n independent Bernoulli trials for some given value of n.\n"
     ]
    }
   ],
   "source": [
    "# QUESTION 5\n",
    "print(\"A Bernoulli distribution is a discrete probability distribution for a Bernoulli trial — a random experiment that has only two outcomes (usually called a “Success” or a “Failure”). For example, the probability of getting a heads (a “success”) while flipping a coin is 0.5.\")\n",
    "print(\"The Bernoulli distribution represents the success or failure of a single Bernoulli trial. The Binomial Distribution represents the number of successes and failures in n independent Bernoulli trials for some given value of n.\")"
   ]
  },
  {
   "cell_type": "code",
   "execution_count": 13,
   "id": "107b004f-95f0-4a55-9086-c91779e577bd",
   "metadata": {},
   "outputs": [
    {
     "name": "stdout",
     "output_type": "stream",
     "text": [
      "value of z from table is 0.8413\n",
      "0.15869999999999995\n"
     ]
    }
   ],
   "source": [
    "# QUESTION 6\n",
    "# finding z score using formula xi-mean/std\n",
    "print(\"value of z from table is 0.8413\")\n",
    "print(1-0.8413)"
   ]
  },
  {
   "cell_type": "code",
   "execution_count": 14,
   "id": "56a58d07-9031-41ed-ad0b-9db9afd3fdfd",
   "metadata": {},
   "outputs": [
    {
     "name": "stdout",
     "output_type": "stream",
     "text": [
      "n statistics, uniform distribution refers to a type of probability distribution in which all outcomes are equally likely. A deck of cards has within it uniform distributions because the likelihood of drawing a heart, a club, a diamond, or a spade is equally likely.\n"
     ]
    }
   ],
   "source": [
    "#QUESTION 7\n",
    "print(\"n statistics, uniform distribution refers to a type of probability distribution in which all outcomes are equally likely. A deck of cards has within it uniform distributions because the likelihood of drawing a heart, a club, a diamond, or a spade is equally likely.\")"
   ]
  },
  {
   "cell_type": "code",
   "execution_count": 15,
   "id": "65947a5d-e445-4544-8081-4db340e3cf1a",
   "metadata": {},
   "outputs": [
    {
     "name": "stdout",
     "output_type": "stream",
     "text": [
      "A z-score measures the distance between a data point and the mean using standard deviations. Z-scores can be positive or negative. The sign tells you whether the observation is above or below the mean.\n"
     ]
    }
   ],
   "source": [
    "# QUESTION 8\n",
    "print(\"A z-score measures the distance between a data point and the mean using standard deviations. Z-scores can be positive or negative. The sign tells you whether the observation is above or below the mean.\")"
   ]
  },
  {
   "cell_type": "code",
   "execution_count": 16,
   "id": "1536d798-7566-48d3-a65d-9259fcbbc72f",
   "metadata": {},
   "outputs": [
    {
     "name": "stdout",
     "output_type": "stream",
     "text": [
      "The central limit theorem (CLT) states that the distribution of sample means approximates a normal distribution as the sample size gets larger, regardless of the population's distribution. Sample sizes equal to or greater than 30 are often considered sufficient for the CLT to hold.\n"
     ]
    }
   ],
   "source": [
    "# QUESTION 9\n",
    "print(\"The central limit theorem (CLT) states that the distribution of sample means approximates a normal distribution as the sample size gets larger, regardless of the population's distribution. Sample sizes equal to or greater than 30 are often considered sufficient for the CLT to hold.\")"
   ]
  },
  {
   "cell_type": "code",
   "execution_count": null,
   "id": "d5d55548-ca8d-459b-a946-7135dd57c247",
   "metadata": {},
   "outputs": [],
   "source": []
  }
 ],
 "metadata": {
  "kernelspec": {
   "display_name": "Python 3 (ipykernel)",
   "language": "python",
   "name": "python3"
  },
  "language_info": {
   "codemirror_mode": {
    "name": "ipython",
    "version": 3
   },
   "file_extension": ".py",
   "mimetype": "text/x-python",
   "name": "python",
   "nbconvert_exporter": "python",
   "pygments_lexer": "ipython3",
   "version": "3.10.8"
  }
 },
 "nbformat": 4,
 "nbformat_minor": 5
}
